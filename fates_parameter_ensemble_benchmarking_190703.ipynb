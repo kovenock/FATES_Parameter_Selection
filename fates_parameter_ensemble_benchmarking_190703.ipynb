{
 "cells": [
  {
   "cell_type": "markdown",
   "metadata": {},
   "source": [
    "# Parameter Selection for the Functionally Assembled Terrestrial Ecosystem Simulator\n",
    "\n",
    "__Summary__<br>\n",
    "Numerical, process-based models that simulate tropical forest ecosystem dynamics, such as the Functionally Assembled Terrestrial Ecosystem Simulator (FATES), have been proposed as a way to improve climate change projections. However, parameterizing these complex models is challenging due to their numerous and interconnected non-linear relationships. Here, we to identify three high-performing parameter sets for use in future FATES simulations by quantitatively evaluating the performance of nearly 300 simulations, each run with a unique parameter set, against observations at a tropical forest test site.\n",
    "\n",
    "__Motivation__<br>\n",
    "Greenhouse gas emissions from human activities are warming the Earth with potentially catastrophic implications for human health. Projections of twenty-first century warming are critical for climate change mitigation and adaptation efforts. Unfortunately, the numerical models used to project future climate differ in their predictions of warming even for the same greenhouse gas emissions scenario. This variability in projections across models stems largely from uncertainty about how Earth's vegetation will respond to climate change. In particular, predictions of tropical forest responses to climate change must be improved, as these forests exert strong control over global climate.  Numerical, process-based models of vegetated ecosystem dynamics, such as the Functionally Assembled Terrestrial Ecosystem Simulator (FATES; Fisher et al., 2015, 2018), have been proposed as a way of improving projections of tropical forests and thus future climate. However, parameterizing these complex models remains challenging due to their numerous parameters and interconnected, non-linear relationships.\n",
    "\n",
    "__Goal__<br>\n",
    "The goal of this analysis is to identify model parameter sets that allows the FATES model to best match observations of tropical forest structure and functioning at a test site.\n",
    "\n",
    "__Methods__<br>\n",
    "This analysis identifies high-performing parameter sets for use in future experiments by quantitatively evaluating the performance of nearly 300 different FATES parameter sets against observations at a tropical forest test site, Barro Colorado Island, Panama. \n",
    "\n",
    "_Parameter ensemble simulations_<br>\n",
    "Prior to this analysis, we ran an ensemble of FATES simulations at our test site, Barro Colorado Island, Panama. Each simulation in the ensemble was initialized with a unique parameter set but was otherwise set-up identically to all other simulations. The 287 parameter sets we tested differed in 12 key plant trait parameters, which were sampled from observed distributions when possible (following Koven et al., _in prep_). All simulations were forced with repeating meteorological data for Barro Colorado Island, Panama, from the years 2003 to 2016 (Faybishenko et al., 2018). See Kovenock (2019) for further details of the parameter ensemble simulations.\n",
    "\n",
    "Plant structure and functioning are sensitive to atmospheric carbon dioxide concentration, which increased over the observational time period. We therefore repeat all parameter ensemble simulations and our analysis below for two carbon dioxide concentrations that approximately bookend the observational time period (367ppm and 400ppm carbon dioxide).\n",
    "\n",
    "_Parameter set evaluation and selection_<br>\n",
    "This code uses the above ensemble of simulations to quantitatively evaluate the performance of each parameter set against observations of six variables at our tropical forest test site. These variables characterize ecosystem structure (leaf area index, above-ground biomass, basal area) and functioning (gross primary productivity, latent heat flux, sensible heat flux). Observations come from the following sources:  leaf area index from Detto et al. (2018); above-ground biomass from Meakem et al. (2018), Feeley et al. (2007), and Baraloto et al. (2013); basal area from Condit et al. (2017, 2012), Condit (1998), and Hubbell et al. (1999); and gross primary productivity, latent heat flux, and sensible heat flux from Koven et al. (in prep). As some of these data sets require permission to use or are not yet publicly available, observational data sets are not included for download here.\n",
    "\n",
    "We use two performance metrics $-$ error rate and normalized root mean square error $-$ to quantify each parameter set's performance. The error rate measures how frequently the model output falls within the observed range for each variable. The normalized root mean square error measures the distance between the model output and the observed mean, relative to the observed range for each variable. The expectation is that high-performing parameter sets will result in model output that falls within the range of observations (low error rate) and near the observed mean (low normalized root mean square error). After evaluating a parameter set's performance for each individual variable, we calculate the weighted average performance across all variables for that parameter set. To ensure that our selection of a high-performing parameter set is robust to weighting method, we consider three different weighting approaches:  even weighting, weighting favoring structural variables, and weighting accounting for correlation between individual variable performance.\n",
    "\n",
    "Lastly, we identify parameter sets for use in future experiments by assigning an overall rank to each parameter set based on its performance across both performance metrics, three weighted averaging approaches, and two background carbon dioxide concentrations.\n",
    "\n",
    "__Results__<br>\n",
    "This analysis identifies three high-performing parameter sets for use in future FATES simulations. We recommend the highest-performing parameter set for use in primary experiments and the next two highest-performing parameter sets for use in parameter sensitivity tests. These high-performing parameter sets are publicly available through the University of Washington ResearchWorks digital repository at http://hdl.handle.net/1773/43779. The performance of these parameter sets is reported in further detail in the [Results](#Results) section below and in Kovenock (2019).\n"
   ]
  },
  {
   "cell_type": "markdown",
   "metadata": {},
   "source": [
    "## Analysis\n",
    "## Step 1: Load libraries"
   ]
  },
  {
   "cell_type": "code",
   "execution_count": 1,
   "metadata": {},
   "outputs": [],
   "source": [
    "import netCDF4 as nc4\n",
    "import numpy as np\n",
    "import pandas as pd\n",
    "import matplotlib.pyplot as plt\n",
    "import scipy\n",
    "from scipy import stats"
   ]
  },
  {
   "cell_type": "markdown",
   "metadata": {},
   "source": [
    "## Step 2: Load and preprocess data\n",
    "\n",
    "Here we load the data and calculate time series of annual mean values for six ecosystem characteristics for all the simulations and observations. This code section returns two multidimensional arrays, one for model output and one for observations, that contain annual mean values for each variable organized by parameter set and background carbon dioxide concentration.\n",
    "\n",
    "The six ecosystem characteristics included in these arrays are:\n",
    "\n",
    "- Leaf area index,\n",
    "- Above-ground biomass,\n",
    "- Basal area,\n",
    "- Gross primary productivity,\n",
    "- Latent heat flux, and\n",
    "- Sensible heat flux."
   ]
  },
  {
   "cell_type": "markdown",
   "metadata": {},
   "source": [
    "### 2.1  Model output\n",
    "\n",
    "This part of the code loads the model output for all FATES simulations in our parameter ensemble. Then it calculates time series of annual mean values for the six variables we use to evaluate the performance of each parameter set."
   ]
  },
  {
   "cell_type": "code",
   "execution_count": 2,
   "metadata": {},
   "outputs": [],
   "source": [
    "def annmeants(filepath,var,varfiletype,nyrs,conv_factor):\n",
    "    ''' Calculate time series of annual means for a model output variable.\n",
    "    :param filepath (str): file path to data file\n",
    "    :param var (str): name of variable to call from filename\n",
    "    :param nyrs (int, float): number of years to analyze\n",
    "    :param conv_factor (float): conversion factor specific to variable specified by var\n",
    "    :return: 2-D array containing annual mean time series (ensemble member, nyrs)\n",
    "    '''\n",
    "    \n",
    "    # If model output is stored as monthly average for all tree sizes,\n",
    "    # need to calculate annual mean.   \n",
    "    if varfiletype == 0:\n",
    "        \n",
    "        # Load monthly time series\n",
    "        # For all cases except latent heat flux (FLH):\n",
    "        if var != 'FLH':\n",
    "            mthts_temp = nc4.Dataset(filepath).variables[var][:,:,0]\n",
    "        \n",
    "        # For the special case of latent heat flux:\n",
    "        elif var == 'FLH':\n",
    "            # Sum of three terms:\n",
    "            mthts_temp = (nc4.Dataset(filepath).variables['FCTR'][:,:,0] \n",
    "                          + nc4.Dataset(filepath).variables['FGEV'][:,:,0] \n",
    "                          + nc4.Dataset(filepath).variables['FCEV'][:,:,0])\n",
    "        \n",
    "        \n",
    "        # Calculate annual mean time series for nyrs and convert units if necessary\n",
    "        annmeants = np.nanmean(np.reshape((mthts_temp[:,int(-1*nyrs*12):] * conv_factor),\n",
    "                                          (mthts_temp.shape[0],-1,12)),axis=2)\n",
    "        \n",
    "    # Else if model output is stored as annual mean but structured by tree size,\n",
    "    # need to sum across tree sizes.\n",
    "    elif varfiletype == 1:\n",
    "        # Calculate annual mean time series for entire ecosystem by summing across tree sizes\n",
    "        annmeants = np.squeeze(np.nansum((\n",
    "                        nc4.Dataset(filepath).variables[var + '_SCLS'][:,int(-1*nyrs):,:]),\n",
    "                        axis=2))\n",
    "    \n",
    "    mthts_temp = None\n",
    "    \n",
    "    return annmeants"
   ]
  },
  {
   "cell_type": "markdown",
   "metadata": {},
   "source": [
    "First, we will specify the information required to load and calculate annual mean time series of model output for each simulation, including file paths and names, variables to analyze, and conversion factors."
   ]
  },
  {
   "cell_type": "code",
   "execution_count": 3,
   "metadata": {},
   "outputs": [],
   "source": [
    "# Filepath\n",
    "model_filepath = 'data/'\n",
    "\n",
    "# Filenames\n",
    "# {1} = carbon dioxide concentration specified by CO2level;\n",
    "# {2} = variable file type specified by varfiletype.\n",
    "model_filenames =[\n",
    "    'fates_clm5_fullmodel_bci_parameter_ensemble_1pft_slaprofile_{}_v001.I2000Clm50FatesGs.Cdf9b02d-Fb178808.2018-07-27.h{}.ensemble.sofar.nc',\n",
    "    'fates_clm5_fullmodel_bci_parameter_ensemble_1pft_slaprofile_{}_v001.I2000Clm50FatesGs.Cdf9b02d-Fb178808.2018-07-27.h{}.ensemble.sofar.nc']\n",
    "\n",
    "# Background carbon dioxide (CO2) concentration\n",
    "CO2levels = ['367ppm', '400ppm']\n",
    "\n",
    "# Variable list for model output\n",
    "varlist = ['TLAI','AGB','BA','GPP','FLH','FSH']\n",
    "\n",
    "# Data structure for each variable in varlist:\n",
    "# 0 = monthly data for entire ecosystem;\n",
    "# 1 = annual data structured by tree size structure.\n",
    "varfiletype = [0,1,1,0,0,0]\n",
    "\n",
    "# Conversion factor for each variable in varlist:\n",
    "varconv = [1, 1, 1, 86400*365, 1, 1]\n",
    "\n",
    "# Variable units after applying conversion factor for each variable in varlist:\n",
    "varunits = ['$m^2/m^2$','$kgC/m^2$','$m^2/ha$','$gC/m^2/yr$','$W/m^2$','$W/m^2$']\n",
    "\n",
    "# Number of years of model output to analyze\n",
    "nyrs = 50\n",
    "\n",
    "# Number of parameter sets in ensemble\n",
    "nens = nc4.Dataset(model_filepath + model_filenames[0].format(CO2levels[0],varfiletype[0])).variables[varlist[0]].shape[0]"
   ]
  },
  {
   "cell_type": "markdown",
   "metadata": {},
   "source": [
    "Next, we create a multidimensional array that contains a time series of annual means for each variable, parameter set and background carbon dioxide concentration."
   ]
  },
  {
   "cell_type": "code",
   "execution_count": 4,
   "metadata": {},
   "outputs": [],
   "source": [
    "# Return model_data (float): a 4-D array of annual mean values for\n",
    "    # each variable with dimensions\n",
    "    # (CO2levels, varlist, nens, nyrs)\n",
    "    # with the following indexing:\n",
    "    # CO2levels: \n",
    "    #         0 = 367ppm CO2; \n",
    "    #         1 = 400ppm CO2.\n",
    "    # varlist: \n",
    "    #         0 = Leaf area index;\n",
    "    #         1 = Above ground biomass;\n",
    "    #         2 = Basal area;\n",
    "    #         3 = Gross primary productivity;\n",
    "    #         4 = Latent heat flux;\n",
    "    #         5 = Sensible heat flux.\n",
    "    # nens: \n",
    "    #         0:286 = parameter set index.\n",
    "\n",
    "# Initialize array\n",
    "model_data = np.zeros([len(CO2levels), len(varlist), nens, nyrs])\n",
    "\n",
    "for c in range(len(CO2levels)):\n",
    "    for v in range(len(varlist)):\n",
    "        \n",
    "        filepath = model_filepath + model_filenames[c].format(CO2levels[c],varfiletype[v])\n",
    "        \n",
    "        model_data[c, v, :, :] = annmeants(filepath, varlist[v], varfiletype[v], nyrs, varconv[v])\n",
    "\n",
    "        filepath = None"
   ]
  },
  {
   "cell_type": "markdown",
   "metadata": {},
   "source": [
    "### 2.2 Observations\n",
    "\n",
    "This code section loads data for the observations we will use to evaluate the performance of each parameter set in our FATES parameter ensemble. It then calculates annual mean values when necessary."
   ]
  },
  {
   "cell_type": "markdown",
   "metadata": {},
   "source": [
    "#### Leaf area index\n",
    "\n",
    "Leaf area index observations come from Detto et al. (2018) and were made using hemispherical photographs taken approximately monthly from January 2015 to August 2017 at 188 locations at our test site, Barro Colorado Island, Panama. We calculate annual mean values from the monthly means reported by Detto et al. (2018). (Note that monthly data consists of spatial means across photograph locations, rather than temporal means.) In order to use all the data available, we calculate two time series of annual means - one starting in from January and the second starting from September. Data was captured from Detto et al. (2018) Figure 7a using GraphClick software."
   ]
  },
  {
   "cell_type": "code",
   "execution_count": 5,
   "metadata": {},
   "outputs": [],
   "source": [
    "# Return obs_data_lai (float): 2-D array of annual mean leaf area index\n",
    "#    (sample number, years) using the following index coding for\n",
    "#    sample number: \n",
    "#        0 = sample months starting from January; \n",
    "#        1 = sample months starting from September.\n",
    "\n",
    "\n",
    "# File path\n",
    "filepath = 'data/LAI_Detto2018Obs.csv'\n",
    "\n",
    "# Monthly spatial means\n",
    "lai_mthts = np.asarray([col[2] for col in (pd.read_csv(filepath)).values])\n",
    "\n",
    "# Specify start months for observations\n",
    "startmonth_list = np.array([1,9])\n",
    "\n",
    "# Number of annual means per sample\n",
    "nyears_lai = round(len(lai_mthts)/12-0.5)\n",
    "\n",
    "# Initialize array\n",
    "obs_data_lai = np.zeros([len(startmonth_list), nyears_lai])\n",
    "\n",
    "# Calculate annual means and fill array\n",
    "for x in range(len(startmonth_list)):\n",
    "    obs_data_lai[x,:] = np.nanmean(np.reshape(lai_mthts[startmonth_list[x]-1:24+startmonth_list[x]-1],(nyears_lai,12)),1)"
   ]
  },
  {
   "cell_type": "markdown",
   "metadata": {},
   "source": [
    "#### Above-ground carbon biomass\n",
    "\n",
    "Above-ground carbon biomass estimates were calculated from a 1995 census survey at our test site, Barro Colorado Island, by Meakem et al. (2018). They estimate above-ground biomass using two different methods (the standard and Chave allometric formulations). We use values from these two methods to represent uncertainty in the observational estimate. \n",
    "\n",
    "Alternatively, we can approximate above-ground carbon biomass from estimates of total biomass (rather than just carbon biomass) from census survey data reproted in Baraloto et al. (2013) and Feeley et al. (2007) for the following years:  1985, 1990,1995, 2000, and 2005. This alternative method yields similar results and can be implemented by setting use_alt_agb_obs to 1 in the code below."
   ]
  },
  {
   "cell_type": "code",
   "execution_count": 6,
   "metadata": {},
   "outputs": [],
   "source": [
    "# Return obs_data_agb (float): vector of above-ground\n",
    "#    carbon biomass (KgC/m2) indexed by allometric \n",
    "#    formulation:\n",
    "#        0 = standard;\n",
    "#        1 = Chave.\n",
    "\n",
    "use_alt_agb_obs = 0;\n",
    "\n",
    "filepath = 'data/BCI_biomass.csv'\n",
    "\n",
    "if use_alt_agb_obs == 0:\n",
    "    # Above-ground carbon biomass from Meakem et al. 2018 (MgC/ha) \n",
    "    cbiomass_obs_Mgha = np.asarray([col[2] for col in (pd.read_csv(filepath)).values])[-2:,]\n",
    "    # Convert from MgC/ha to KgC/m2\n",
    "    ha_to_m2 = 1/10000\n",
    "    Mg_to_kg = 1000\n",
    "    obs_data_agb = cbiomass_obs_Mgha * ha_to_m2 * Mg_to_kg\n",
    "    \n",
    "elif use_alt_agb_obs == 1:\n",
    "    # Total aboveground biomass (Mg biomass/ha) from \n",
    "    # Baraloto et al. (2013) and Feeley et al. (2007)\n",
    "    agb_biomass_obs = np.asarray([col[1] for col in (pd.read_csv(filepath)).values])[:-2,]\n",
    "    # Estimate of carbon biomass from total biomass using\n",
    "    # following Meakem et al. 2018\n",
    "    obs_data_agb_v2 = agb_biomass_obs*0.47\n",
    "    obs_data_agb = obs_data_agb_v2"
   ]
  },
  {
   "cell_type": "markdown",
   "metadata": {},
   "source": [
    "#### Basal area\n",
    "\n",
    "We use estimates of the median basal area for our test site Barro Colorado Island, Panama, from census surveys conducted in 1999, 2001, 2006, and 2011 by Condit (1998), Condit et al. (2012, 2017), and Hubbell et al. (1999)."
   ]
  },
  {
   "cell_type": "code",
   "execution_count": 7,
   "metadata": {},
   "outputs": [],
   "source": [
    "# Return obs_data_ba (float): vector containing basal area (m^2/ha)\n",
    "#    indexed by census year in chronological order\n",
    "\n",
    "filepath = 'data/census_bmks_bci_171208.nc'\n",
    "\n",
    "# Load basal area median values for the last 5 census dates\n",
    "# Data structured as follows:\n",
    "# [census number, tree diameter size class,...\n",
    "# distribution percentiles (0.05,0.5,0.95)]\n",
    "basalarea_bysize = nc4.Dataset(filepath).variables['basal_area_by_size_census'][-5:,:,1]\n",
    "\n",
    "# Sum across tree size classes\n",
    "obs_data_ba = np.nansum(basalarea_bysize,1)"
   ]
  },
  {
   "cell_type": "markdown",
   "metadata": {},
   "source": [
    "#### Gross primary productivity, latent heat flux, and sensible heat flux\n",
    "\n",
    "Estimates of gross primary productivity, latent heat fluxes, and sensible heat fluxes were calculated from fluxtower eddy covariance measurements made from July 2012 to August 2017 at Barro Colorado Islana by Koven et al. (in prep). To use all available data in our analysis, we calculate two versions of the annual means time series, one beginning in July and the second beginning in September."
   ]
  },
  {
   "cell_type": "code",
   "execution_count": 8,
   "metadata": {},
   "outputs": [],
   "source": [
    "def annmeants_fluxobs(mthts,startmth):\n",
    "    ''' Calculate time series of annual means from monthly fluxtower estimates.\n",
    "    :param mthts (float): 2-D array containing fluxtower observations (years, months)\n",
    "    :param startmth (int): number corresponding to start month for this annual mean time series\n",
    "                            (e.g. 7 = start with July, 9 = start with Sept)\n",
    "    :return: vector containing annual mean time series of size (nyrs) \n",
    "    '''\n",
    "    # Discard number of months specified by dif\n",
    "    mthts_dif = np.reshape(mthts,(1,-1))[:,startmth-1:startmth-1-12]\n",
    "    \n",
    "    # Calculate annual mean time series\n",
    "    annmeants = np.nanmean(np.reshape(mthts_dif,(5,12)),axis=1)\n",
    "    \n",
    "    return annmeants"
   ]
  },
  {
   "cell_type": "code",
   "execution_count": 9,
   "metadata": {},
   "outputs": [],
   "source": [
    "# Return obs_data_flux (float): 3-D array containing annual mean values\n",
    "#    indexed as (sample number, variable, year).\n",
    "#    sample number: \n",
    "#        0 = sample months starting from July; \n",
    "#        1 = sample months starting from September.\n",
    "#    variable:\n",
    "#        0 = gross primary productivity;\n",
    "#        1 = latent heat flux;\n",
    "#        2 = sensible heat flux.\n",
    "\n",
    "# Load observations\n",
    "GPP_data = np.load('data/fluxdata_GPP.npy')\n",
    "LH_data  = np.load('data/fluxdata_LH.npy')\n",
    "SH_data  = np.load('data/fluxdata_SH.npy')\n",
    "fluxdata_mask= np.load('data/fluxdata_mask.npy')\n",
    "\n",
    "# Apply mask to arrays\n",
    "GPP_monthyear = np.ma.masked_array(GPP_data, mask=fluxdata_mask)\n",
    "LH_monthyear = np.ma.masked_array(LH_data, mask=fluxdata_mask)\n",
    "SH_monthyear = np.ma.masked_array(SH_data, mask=fluxdata_mask)\n",
    "\n",
    "# Specify start months for observations\n",
    "startmonth_list = np.array([7,9])\n",
    "\n",
    "# Number of years\n",
    "nyrs_obsflux = len(annmeants_fluxobs(GPP_monthyear,startmonth_list[0]))\n",
    "\n",
    "# Initialize array\n",
    "obs_data_flux = np.zeros([len(startmonth_list), 3, nyrs_obsflux])\n",
    "\n",
    "# Fill array\n",
    "for x in range(len(startmonth_list)):\n",
    "    obs_data_flux[x,0,:] = annmeants_fluxobs(GPP_monthyear,startmonth_list[x])\n",
    "    obs_data_flux[x,1,:] = annmeants_fluxobs(LH_monthyear,startmonth_list[x])\n",
    "    obs_data_flux[x,2,:] = annmeants_fluxobs(SH_monthyear,startmonth_list[x])"
   ]
  },
  {
   "cell_type": "markdown",
   "metadata": {},
   "source": [
    "## Step 3: Quanitfy performance of each parameter set\n",
    "\n",
    "In this section we evaluate the model performance against observations for each parameter set and background carbon dioxide level. As we would like to identify parameter sets that robsutly perform well regardless of performance metric we use two metrics to evaluate performance:  error rate and normalized root mean square error (NRMSE). We calculate both metrics for each variable. Then, we take a weighted average across all variables for each metric and parameter set."
   ]
  },
  {
   "cell_type": "markdown",
   "metadata": {},
   "source": [
    "### Performance Metric #1: Error Rate\n",
    "\n",
    "The error rate measures the percent of model annual means that fall within the observed range for each variable and ensemble member. The observed range is defined as the difference between the maximum and minimum observed values. To account for relatively small sample sizes and potential measurment error within the observations we extend the observational range by 10% in both directions."
   ]
  },
  {
   "cell_type": "code",
   "execution_count": 10,
   "metadata": {},
   "outputs": [],
   "source": [
    "def error_rate(model_ts,obs_ts,dg):\n",
    "    '''Function calculates the error rate for each simulation\n",
    "    as the percentage of model output annual means that fall\n",
    "    within the observed range for the variable.\n",
    "    param model_ts (float): a 2-D array containing the time series of annual means\n",
    "       for a given variable indexed by (parameter set, years)\n",
    "    param obs_ts (float): a vecotr or 2-D array containing the observed time series for\n",
    "        the given variable indexed as (years) or (sample number, years)\n",
    "    param dg (float): a scalar specifying the degradation level for observed range\n",
    "        as a fraction\n",
    "    return error_rate (float): a vector containing the error rates indexed by parameter set\n",
    "        (nens)'''\n",
    "    \n",
    "    # Number of ensemble members\n",
    "    nens = model_ts.shape[0]\n",
    "    \n",
    "    # Empty array to fill\n",
    "    error_rate = np.zeros([nens])\n",
    "\n",
    "    # Observed minimum and maximum\n",
    "    obs_min = np.nanmin(obs_ts)\n",
    "    obs_max = np.nanmax(obs_ts)\n",
    "    \n",
    "    error_rate = 100*np.nansum(np.where((model_ts <= obs_min*(1-dg)) | (model_ts >= obs_max*(1+dg)),1,0),1)/model_ts.shape[1]\n",
    "    return error_rate"
   ]
  },
  {
   "cell_type": "code",
   "execution_count": 11,
   "metadata": {},
   "outputs": [],
   "source": [
    "# Return error_rate_array (float): a 3-D array containing error rates\n",
    "#    indexed by (CO2 level, varlist, parameter set)\n",
    "\n",
    "# Specify observed data arrays in order corresponding to varlist\n",
    "obs_data_list = [obs_data_lai,obs_data_agb,obs_data_ba,\n",
    "                 obs_data_flux[:,0,:],obs_data_flux[:,1,:],\n",
    "                 obs_data_flux[:,2,:]]\n",
    "\n",
    "# Degradation level for the observational range \n",
    "# as fraction, not percent\n",
    "dg = np.array([0.10])\n",
    "\n",
    "# Calculate error rate\n",
    "error_rate_array = np.zeros([len(CO2levels),len(varlist), nens])\n",
    "for i in range(len(CO2levels)):\n",
    "        for j in range(len(varlist)):\n",
    "            error_rate_array[i,j,:] = error_rate(model_data[i,j,:,:], obs_data_list[j], dg)     "
   ]
  },
  {
   "cell_type": "markdown",
   "metadata": {},
   "source": [
    "### Performance Metric #2:  Normalized root mean square error (NRMSE)\n",
    "\n",
    "The normalized root mean square error (NRMSE) measures the distance between the model output for each parameter set and the observed mean value. We normalize the root mean square error by the observed range for each variable so that we can compare NRMSE values across variables. In other words, normalizing the error tells us whether the distance from the observation is large compared to the spread in observations for each varialbe. This becomes especially useful when we take a weighted average NRMSE across all variables in the next code section. We caluclate this metric for each variable, parameter set, and background carbon dioxide level. The NRMSE is calculated as follows:\n",
    "\n",
    "\\begin{equation}\\Large\n",
    "NRMSE = \\frac{ \\sqrt{ \\sum_{k=1}^n \\frac{(x_{model,k} - \\bar{X}_{obs})^2}{n}}} {x_{obs,max} - x_{obs,min}}\n",
    "\\end{equation}\n",
    "\n",
    "where $NRMSE$ is the normalized root mean square error for a single variable (e.g. leaf area index) and parameter set, $n$ is the number of years of model output, $x_{model,k}$ is the model annual mean for year $k$, $\\bar{X}_{obs}$ is the overall annual mean of the observed values, and $x_{obs,max}$ and $x_{obs,min}$ are the maximum and minimum observed values, respectively. When mulitple annual mean time series were sampled for an observed variable (e.g. observations for leaf area index spanned a partial year), we calculate the difference between the observed mean and model output using the time series that minimizes this difference."
   ]
  },
  {
   "cell_type": "code",
   "execution_count": 14,
   "metadata": {},
   "outputs": [],
   "source": [
    "def nrmse(model_ts,obs_ts):\n",
    "    '''Function calculates the normalized root mean square error(NRMSE)\n",
    "    for each model ensemble member. When multiple observation time series \n",
    "    are available, this function calculates the NRMSE for each time series \n",
    "    and then selects the lowest of those NRMSE values.\n",
    "    param model_ts (float): a 2-D array containing the time series of annual means\n",
    "       for a given variable for all model ensemble members \n",
    "       (ensemble member, years)\n",
    "    param obs_ts (float): a vecotr or 2-D array containing the observed time series for\n",
    "        the given variable indexed as (years) or (sample number, years)\n",
    "    return nrmse (float): a vector containing the normalized root mean square error \n",
    "        for each ensemble member indexed by (parameter set)'''\n",
    "    \n",
    "    # Number of ensemble members\n",
    "    nens = model_ts.shape[0]\n",
    "\n",
    "    # If multiple observation time series, \n",
    "    # take the lowest NRMSE for each ensemble member\n",
    "    try:\n",
    "        if obs_ts.shape[1]>0:\n",
    "            # Number of observation time series\n",
    "            nobs = obs_ts.shape[0]\n",
    "            obs_min = np.nanmin(obs_ts,axis=1)\n",
    "            obs_max = np.nanmax(obs_ts, axis=1)\n",
    "            obs_mean = np.nanmean(obs_ts,axis=1)\n",
    "            \n",
    "            temp_nrmse = np.zeros([nobs,nens])\n",
    "            \n",
    "            for obsnum in range(nobs):\n",
    "                temp_nrmse[obsnum,:] = np.sqrt(np.nansum((model_ts[:,:] - obs_mean[obsnum])**2,axis=1) / model_ts.shape[1]) / (obs_max[obsnum]-obs_min[obsnum])\n",
    "                \n",
    "            nrmse = np.nanmin(temp_nrmse,axis=0)\n",
    "\n",
    "            temp_nrmse = None\n",
    "        \n",
    "    # Otherwise, simply calculate NRMSE\n",
    "    except IndexError:\n",
    "        obs_min = np.nanmin(obs_ts,axis=0)\n",
    "        obs_max = np.nanmax(obs_ts,axis=0)\n",
    "        obs_mean = np.nanmean(obs_ts,axis=0)    \n",
    "        \n",
    "        nrmse = np.sqrt(np.nansum((model_ts[:,:] - obs_mean)**2,axis=1) / model_ts.shape[1]) / (obs_max-obs_min)\n",
    "\n",
    "    return nrmse"
   ]
  },
  {
   "cell_type": "code",
   "execution_count": 15,
   "metadata": {},
   "outputs": [],
   "source": [
    "# Return nrsmse_array (float): a 3-D array containing the NRMSE \n",
    "#    indexed by [CO2level, varlist, parameer set]    \n",
    "\n",
    "nrmse_array = np.zeros([len(CO2levels),len(varlist), nens])\n",
    "\n",
    "for i in range(len(CO2levels)):\n",
    "        for j in range(len(varlist)):\n",
    "            nrmse_array[i,j,:] = nrmse(model_data[i,j,:,:], obs_data_list[j])"
   ]
  },
  {
   "cell_type": "markdown",
   "metadata": {},
   "source": [
    "### Weighted average permformance metrics across variables\n",
    "\n",
    "We calculate weighted average performance metrics across variables for both the normalized root mean square error and the error rate. We calculate and consider three different weighting approaches to ensure that our selection of high-performing parameter sets is robust to weighting method. The weighting approaches we use are:\n",
    "\n",
    "1. Even:  All variables are evenly weighted.\n",
    "\n",
    "2. Structure:  This weighting favors structural ecosystem properties (leaf area index, above-ground biomass, and basal area). This weighting scheme reflects the likelihood that structural variables at our test site include less measurment uncertainty than flux variables.\n",
    "\n",
    "3. Correlation: This weighting scheme is informed by correlations between individual variable performance metrics. The ability of a parameter set to mach observations of flux variables (gross primary productivity, sensible heat, and latent heat) was correlated with ability to match observations of leaf area index,  as well as other flux variables. As leaf area index observations likely include smaller measurement uncertainty, we choose to give a greater weighting to leaf area index at the expense of flux variables. We also reduced the weightings of basal area and above-ground biomass performance to account for their correlation with one another."
   ]
  },
  {
   "cell_type": "markdown",
   "metadata": {},
   "source": [
    "#### Weighted average error rate"
   ]
  },
  {
   "cell_type": "code",
   "execution_count": 16,
   "metadata": {},
   "outputs": [],
   "source": [
    "# Even weighting across all variables\n",
    "er_wavg_even = np.nansum(error_rate_array,1) / error_rate_array.shape[1]\n",
    "\n",
    "# Weighted average favoring structural properties\n",
    "w = 0.3\n",
    "er_wavg_strct = (w*(error_rate_array[:,0,:]) \n",
    "            + w*(error_rate_array[:,1,:])\n",
    "            + w*(error_rate_array[:,2,:])\n",
    "            + (1-3*w)*((error_rate_array[:,3,:])\n",
    "                +(error_rate_array[:,4,:])\n",
    "                +(error_rate_array[:,5,:]))/3)\n",
    "\n",
    "# Weighting based on correlations between performance metric for each variable\n",
    "w1 = 0.4\n",
    "w2 = 0.25\n",
    "w3 = 0.1\n",
    "er_wavg_corr = ( w1*(error_rate_array[:,0,:])  \n",
    "            + w2*(error_rate_array[:,1,:])  \n",
    "            + w2*(error_rate_array[:,2,:]) \n",
    "            + w3*((error_rate_array[:,3,:])\n",
    "                +(error_rate_array[:,4,:])\n",
    "                +(error_rate_array[:,5,:]))/3)"
   ]
  },
  {
   "cell_type": "markdown",
   "metadata": {},
   "source": [
    "#### Weighted average NRMSE\n",
    "\n",
    "We quantify the distance of model output from the mean observations in multivariate space by calculating the weighted Euclidean distance as follows:\n",
    "\n",
    "\\begin{equation}\n",
    "NRMSE_{avg} = \\sqrt{ \\sum_{i=1}^m (\\omega_{i} \\cdot NRMSE_{i})^2}\n",
    "\\end{equation}\n",
    "\n",
    "where $NRMSE_{avg}$ is the weighted average normalized root mean square error across variables, $m$ is the number of variables we consider, $NRMSE_{i}$ is the normalized root mean square error for each individual variable, and $\\omega_{i}$ is the weighting for each variable. "
   ]
  },
  {
   "cell_type": "code",
   "execution_count": 35,
   "metadata": {},
   "outputs": [],
   "source": [
    "# Even weighting across all variables\n",
    "w = 1/6\n",
    "nrmse_wavg_even = np.sqrt(w*(nrmse_array[:,0,:])**2 \n",
    "                                  + w*(nrmse_array[:,1,:])**2 \n",
    "                                  + w*(nrmse_array[:,2,:])**2 \n",
    "                                  + w*(nrmse_array[:,3,:])**2 \n",
    "                                  + w*(nrmse_array[:,4,:])**2 \n",
    "                                  + w*(nrmse_array[:,5,:])**2)\n",
    "\n",
    "\n",
    "# Weighted average favoring structural properties\n",
    "w = 0.3\n",
    "nrmse_wavg_strct = np.sqrt(w*(nrmse_array[:,0,:])**2 \n",
    "                        + w*(nrmse_array[:,1,:])**2 \n",
    "                        + w*(nrmse_array[:,2,:])**2 \n",
    "                        + (1-3*w)*((nrmse_array[:,3,:])**2 \n",
    "                                    +(nrmse_array[:,4,:])**2 \n",
    "                                    +(nrmse_array[:,5,:])**2)/3)\n",
    "\n",
    "# Weighting based on correlations between performance metric for each variable\n",
    "w1 = 0.4\n",
    "w2 = 0.25\n",
    "w3 = 0.1\n",
    "nrmse_wavg_corr = np.sqrt(w1*(nrmse_array[:,0,:])**2 \n",
    "                          + w2*(nrmse_array[:,1,:])**2 \n",
    "                          + w2*(nrmse_array[:,2,:])**2 \n",
    "                          + w3*((nrmse_array[:,3,:])**2 \n",
    "                                  +(nrmse_array[:,4,:])**2 \n",
    "                                  +(nrmse_array[:,5,:])**2)/3)"
   ]
  },
  {
   "cell_type": "markdown",
   "metadata": {},
   "source": [
    "## Step 4: Rank parameter sets by performance\n",
    "Here we assign an overall rank to each parameter set based on its performance across both performance metrics (error rate and NRMSE), three weighting schemes (even, structure, and correlated), and two cases (low and high atmospheric carbon dioxide concentration). The goal of this analysis is to identify parameter sets that robsutly perform well at our test site."
   ]
  },
  {
   "cell_type": "code",
   "execution_count": 36,
   "metadata": {},
   "outputs": [
    {
     "name": "stdout",
     "output_type": "stream",
     "text": [
      "Indices for the highest-performing parameter sets:  [ 86 260 151]\n"
     ]
    }
   ],
   "source": [
    "all_avg_array = np.stack([er_wavg_even,nrmse_wavg_even,\n",
    "                             er_wavg_strct,nrmse_wavg_strct,\n",
    "                             er_wavg_corr,nrmse_wavg_corr])\n",
    "\n",
    "rank_array = scipy.stats.mstats.rankdata(all_avg_array,axis=2)\n",
    "\n",
    "# Sum ranks across cases and ranking methods\n",
    "sum_rank_array = np.nansum(np.nansum(rank_array,axis=0),axis=0)\n",
    "\n",
    "# Sort the index number for each ensemble member by their summed rank (best to worst performance)\n",
    "sum_rank_index = np.argsort(sum_rank_array)\n",
    "\n",
    "#Print Index # for highest-performing parameter sets\n",
    "highperform_num = np.transpose(sum_rank_index)[:10,]+1\n",
    "highperform_indx = np.transpose(sum_rank_index)[:10,]\n",
    "print(\"Indices for the highest-performing parameter sets: \", highperform_num[0:3])"
   ]
  },
  {
   "cell_type": "markdown",
   "metadata": {},
   "source": [
    "__Result:__ Parameter sets 86, 260, and 151 resulted in the highest model performance (in descending order) at our test site.\n"
   ]
  },
  {
   "cell_type": "markdown",
   "metadata": {},
   "source": [
    "## Step 5: Plot performance metrics for each parameter set\n",
    "\n",
    "In this section we visualize the model performance for each parameter set to gain insight into how the highest-performing parameter sets performed in individual variables and in comparison to all other parameter sets. More specifically, we plot heat maps of each parameter set's performance by performance metric and background carbon dioxide concentration."
   ]
  },
  {
   "cell_type": "code",
   "execution_count": 37,
   "metadata": {},
   "outputs": [],
   "source": [
    "def heatsubplotfxn(heatdata, CO2indx, minval, maxval, plotnum, metriclabel,\n",
    "                   highperform_indx, heat_var_labels, ens10label, enslabel):\n",
    "    \n",
    "    '''Function creates a heatmap for each performance metric\n",
    "    for high-performing ensemble members and then all ensemble members.\n",
    "\n",
    "    param heatdata (float): 3-D array containing a performance metric (CO2levels, variable, nens)\n",
    "    param CO2indx(int, float): index for background CO2 level (0 = 367 ppm; 1 = 400ppm)\n",
    "    param minval (int): minimum value for heatmap colorbar\n",
    "    param maxval (int): maximum value for heatmap colorbar\n",
    "    param plotnum (int): subplot number\n",
    "    param metriclabel (str): label for performance metric\n",
    "    param highperform_indx (int, float): vector of index numbers for\n",
    "        high-performing parameter sets\n",
    "    param heat_var_labels (str): list of variable labels indexed by (variable)\n",
    "    param ens10label (str): list of high-performing parameter set numbers\n",
    "        to be used as plot labels\n",
    "    param enslabel (str): list parameter set numbers to label in plot of\n",
    "        all parameter sets' performance metrics\n",
    "    \n",
    "    return heatmap subplot for one performance metric\n",
    "    '''\n",
    "    \n",
    "    #Subplot indexing paramter\n",
    "    i = 2\n",
    "    \n",
    "    # Highest Performing Ensemble Members\n",
    "    ax1 = plt.subplot(3,i,plotnum)\n",
    "    im1 = ax1.imshow(\n",
    "        heatdata[CO2indx,:,highperform_indx],\n",
    "        vmin = minval, vmax = maxval,\n",
    "        cmap=\"viridis_r\",aspect='auto')\n",
    "\n",
    "    ax1.set_xticks(np.arange(len(heat_var_labels)))\n",
    "    ax1.xaxis.tick_top()\n",
    "    ax1.set_xticklabels(heat_var_labels)\n",
    "    ax1.xaxis.set_label_position('top')\n",
    "\n",
    "    ax1.set_ylabel('High Performing Parameter Sets (#)')\n",
    "    ax1.set_yticks(np.arange(len(ens10)))\n",
    "    ax1.set_yticklabels(ens10)\n",
    "\n",
    "    # All Ensemble Members\n",
    "    ax2 = plt.subplot(3,i,(i+plotnum,i*2+plotnum))\n",
    "    im2 = ax2.imshow(\n",
    "        np.transpose(heatdata[CO2indx,:,:]),\n",
    "        vmin = minval, vmax = maxval,\n",
    "        cmap=\"viridis_r\",aspect='auto')\n",
    "    \n",
    "    # Colorbar\n",
    "    cbar = ax1.figure.colorbar(\n",
    "        im2, ax=ax2, orientation=\"horizontal\", \n",
    "        pad=0.025)\n",
    "    # Labels\n",
    "    cbar.ax.set_xlabel(metriclabel, fontsize = 16, \n",
    "                       fontweight ='bold')\n",
    "    ax2.set_xticks([]) # hide xticks/labels\n",
    "    ax2.set_ylabel('All Parameter Sets (#)')\n",
    "    ax2.set_yticks(ens)\n",
    "    ax2.set_yticklabels(enslist)"
   ]
  },
  {
   "cell_type": "code",
   "execution_count": 38,
   "metadata": {},
   "outputs": [],
   "source": [
    "# Return error_heatdata: a 3-D array containing error rates\n",
    "#    indexed by (CO2level, variable, nens)\n",
    "# Return nrmse_heatdata: a 3-D array containing NRMSE \n",
    "#    indexed by (CO2level, variable, parameter set)\n",
    "#        Variable indexing as follows:\n",
    "#            0-5 = variables in order of varlist, \n",
    "#            6-8 = weighted averages across variables\n",
    "#                    using even,\n",
    "#                    structure, and correlation weights,\n",
    "#                    respectively\n",
    "\n",
    "# Concatenate data for error rate heatmap\n",
    "error_rate_wavg_array = np.stack([er_wavg_even,er_wavg_strct,er_wavg_corr],axis=1)\n",
    "error_heatdata = np.concatenate([error_rate_array,error_rate_wavg_array],axis=1)\n",
    "\n",
    "# Concatenate data for NRMSE heatmap\n",
    "nrmse_wavg_array = np.stack([nrmse_wavg_even,nrmse_wavg_strct,nrmse_wavg_corr],axis=1)\n",
    "nrmse_heatdata = np.concatenate([nrmse_array,nrmse_wavg_array],axis=1)"
   ]
  },
  {
   "cell_type": "code",
   "execution_count": 39,
   "metadata": {},
   "outputs": [],
   "source": [
    "# Additional information for figures\n",
    "\n",
    "# Metric/Variable labels\n",
    "heat_var_labels = [\"LAI\",\"AGB\",\"BA\",\n",
    "                \"GPP\",\"LH\",\"SH\",\"Av$_{E}$\",\"Av$_{S}$\",\"Av$_{C}$\"]\n",
    "\n",
    "# Ensemble member labels\n",
    "# 10 highest performing\n",
    "ens10 = [str(int(x)) for x in highperform_num]\n",
    "# All (label every 25th ensemble member)\n",
    "ens = np.array(range(25,300,25))\n",
    "enslist = [str(x) for x in ens]"
   ]
  },
  {
   "cell_type": "markdown",
   "metadata": {},
   "source": [
    "### Plot heat maps of performance by parameter set, performance metric, and background carbon dioxide concentration"
   ]
  },
  {
   "cell_type": "code",
   "execution_count": 40,
   "metadata": {},
   "outputs": [
    {
     "data": {
      "image/png": "[encoded data removed]",
      "text/plain": [
       "<matplotlib.figure.Figure at 0x7f60dc03e208>"
      ]
     },
     "metadata": {},
     "output_type": "display_data"
    }
   ],
   "source": [
    "fig1 = plt.figure(figsize=(12,12))\n",
    "\n",
    "# Set CO2levels index number\n",
    "casenum = 0\n",
    "\n",
    "# Plot Error Rate\n",
    "plotnum = 1\n",
    "heatsubplotfxn(error_heatdata, casenum, 0, 100, plotnum, 'A.  Error Rate (%)', \n",
    "               highperform_indx, heat_var_labels, ens10, enslist)\n",
    "\n",
    "# Plot NRMSE\n",
    "plotnum = plotnum+1\n",
    "heatsubplotfxn(nrmse_heatdata, casenum, 0, 10, plotnum, 'B.  NRMSE', \n",
    "               highperform_indx, heat_var_labels, ens10, enslist)\n",
    "\n",
    "plt.tight_layout()"
   ]
  },
  {
   "cell_type": "markdown",
   "metadata": {},
   "source": [
    "__Figure 1.__ FATES model performance as measured by (A) error rate and (B) normalized root mean square error (NRMSE) for simulations run with 367 ppm atmospheric carbon dioxide. Performance metrics are shown for leaf area index (LAI), above-ground biomass (AGB), basal area (BA), gross primary productivity (GPP), latent heat flux (LH), sensible heat flux (SH) and weighted averages across variables using three weighting approaches:  even (Av$_E$), favoring structural variables (Av$_S$), and considering correlations (Av$_C$). Top panels highlight the performance of the top 10 highest-perfoming parameter sets. Bottom panels show the performance of all 287 parameter sets we tested."
   ]
  },
  {
   "cell_type": "code",
   "execution_count": 41,
   "metadata": {},
   "outputs": [
    {
     "data": {
      "image/png": "[encoded data removed]",
      "text/plain": [
       "<matplotlib.figure.Figure at 0x7f60dc10f630>"
      ]
     },
     "metadata": {},
     "output_type": "display_data"
    }
   ],
   "source": [
    "fig2 = plt.figure(figsize=(12,12))\n",
    "\n",
    "# Set CO2levels index number\n",
    "casenum = 1\n",
    "\n",
    "# Plot Error Rate\n",
    "plotnum = 1\n",
    "heatsubplotfxn(error_heatdata, casenum, 0, 100, plotnum, 'A.  Error Rate (%)',\n",
    "              highperform_indx, heat_var_labels, ens10, enslist)\n",
    "\n",
    "# Plot NRMSE\n",
    "plotnum = plotnum+1\n",
    "heatsubplotfxn(nrmse_heatdata, casenum, 0, 10, plotnum, 'B.  NRMSE',\n",
    "              highperform_indx, heat_var_labels, ens10, enslist)\n",
    "\n",
    "plt.tight_layout()"
   ]
  },
  {
   "cell_type": "markdown",
   "metadata": {},
   "source": [
    "__Figure 2.__ FATES model performance as measured by (A) error rate and (B) normalized root mean square error (NRMSE) for simulations run with 400 ppm atmospheric carbon dioxide. Performance metrics are shown for leaf area index (LAI), above-ground biomass (AGB), basal area (BA), gross primary productivity (GPP), latent heat flux (LH), sensible heat flux (SH) and weighted averages across variables using three weighting approaches:  even (Av$_E$), favoring structural variables (Av$_S$), and considering correlations (Av$_C$). Top panels highlight the performance of the top 10 highest-perfoming parameter sets. Bottom panels show the performance of all 287 parameter sets we tested."
   ]
  },
  {
   "cell_type": "markdown",
   "metadata": {},
   "source": [
    "## Results\n",
    "This analysis identifies three high-performing parameter sets for use in future FATES simulations. We recommend the highest-performing parameter set (parameter set 86; Figures 1 and 2) as the primary parameter set for future experiments. Two other high-performing parameter sets (151 and 260; Figures 1 and 2) may be of interest for testing the sensitivity of simulation results to parameterization. Parameter set 260 is similar in parameter values and performance to the highest-performing parameter set (number 86). Parameter set 151 has the third highest performance but, has greater differences in key parameter values and results in a different simulated ecosystem. Specifically, parameter set 151 has higher performance in the above-ground biomass and basal area structural properties but, lower performance in leaf area index and gross primary productivity (Figures 1 and 2). These three high-performing parameter sets are publicly available through the University of Washington ResearchWorks digital repository at http://hdl.handle.net/1773/43779.\n"
   ]
  },
  {
   "cell_type": "markdown",
   "metadata": {},
   "source": [
    "## Further Information\n",
    "__Details of the parameter ensemble and analysis herein:__\n",
    "\n",
    "Kovenock, M. (2019). Ecosystem and large-scale climate impacts of plant leaf dynamics (Doctoral dissertation). Chapter 4: \"Within-canopy gradient of specific leaf area improves simulation of tropical forest structure and functioning in a demographic vegetation model.\" http://hdl.handle.net/1773/44061\n",
    "\n",
    "__Details of the Functionally Assembled Ecosystem Simulator (FATES):__\n",
    "\n",
    "https://github.com/NGEET/fates\n",
    "\n",
    "Fisher, R. A., Koven, C. D., Anderegg, W. R., Christoffersen, B. O., Dietze, M. C., Farrior, C. E., et al. (2018). Vegetation demographics in Earth System Models: A review of progress and priorities. Global Change Biology, 24(1), 35–54. https://doi.org/10.1111/gcb.13910\n",
    "\n",
    "Fisher, R. A., Muszala, S., Verteinstein, M., Lawrence, P., Xu, C., McDowell, N. G., et al. (2015). Taking off the training wheels: the properties of a dynamic vegetation model without climate envelopes. _Geoscientific Model Development, 8_(4), 3293–3357. https://doi.org/10.5194/gmdd-8-3293-2015\n"
   ]
  },
  {
   "cell_type": "markdown",
   "metadata": {},
   "source": [
    "## References\n",
    "\n",
    "Baraloto, C., Molto, Q., Rabaud, S., Hérault, B., Valencia, R., Blanc, L., et al. (2013). Rapid simultaneous estimation of aboveground biomass and tree diversity across Neotropical forests: a comparison of field inventory methods. _Biotropica, 45_(3), 288–298. https://doi.org/10.1111/btp.12006\n",
    "\n",
    "Condit, R. (1998). Tropical forest census plots. Berlin, Germany, and Georgetown, Texas: Springer-Verlag and R. G. Landes Company.\n",
    "\n",
    "Condit, R. S., Aguilar, S., Perez, R., Lao, S., Hubbell, S. P., & Foster, R. B. (2017). Barro Colorado 50-ha Plot Taxonomy as of 2017. https://doi.org/10.25570/stri/10088/32990\n",
    "\n",
    "Condit, R., Lao, S., Pérez, R., Dolins, S. B., Foster, R., & Hubbell, S. (2012). Barro Colorado forest census plot data (version 2012). Center for Tropical Forest Science Databases. https://doi.org/10.5479/data.bci.20130603\n",
    "\n",
    "Detto, M., Wright, S. J., Calderón, O., & Muller-Landau, H. C. (2018). Resource acquisition and reproductive strategies of tropical forest in response to the El Niño$-$Southern Oscillation. _Nature Communications, 9_(1), 913. https://doi.org/10.1038/s41467-018-03306-9\n",
    "\n",
    "Faybishenko, B., Paton, S., Powell, T., Knox, R., Pastorello, G., Varadharajan, C., et al. (2018). QA/QC-ed BCI meteorological drivers. United States: Next-Generation Ecosystem Experiments Tropics; STRI; LBNL. https://doi.org/doi:10.15486/ngt/1423307\n",
    "\n",
    "Feeley, K. J., Davies, S. J., Ashton, P. S., Bunyavejchewin, S., Supardi, M. N., Kassim, A. R., et al. (2007). The role of gap phase processes in the biomass dynamics of tropical forests. _Proceedings of the Royal Society B: Biological Sciences, 274_(1627), 2857–2864. https://doi.org/10.1098/rspb.2007.0954\n",
    "\n",
    "Fisher, R. A., Koven, C. D., Anderegg, W. R., Christoffersen, B. O., Dietze, M. C., Farrior, C. E., et al. (2018). Vegetation demographics in Earth System Models: A review of progress and priorities. _Global Change Biology, 24_(1), 35–54. https://doi.org/10.1111/gcb.13910\n",
    "\n",
    "Fisher, R. A., Muszala, S., Verteinstein, M., Lawrence, P., Xu, C., McDowell, N. G., et al. (2015). Taking off the training wheels: the properties of a dynamic vegetation model without climate envelopes. _Geoscientific Model Development, 8_(4), 3293–3357. https://doi.org/10.5194/gmdd-8-3293-2015\n",
    "\n",
    "Hubbell, S. P., Foster, R. B., O'Brien, S. T., Harms, K. E., Condit, R., Wechsler, B., et al. (1999). Light-gap disturbances, recruitment limitation, and tree diversity in a neotropical forest. _Science, 283_(5401), 554–557. https://doi.org/10.1126/science.283.5401.554 \n",
    "\n",
    "Koven, C. D., et al. (_in prep_). Benchmarking and parameter sensitivity of physiological and vegetation dynamics using the Functionally Assembled Terrestrial Ecosystem Simulator (FATES) at Barro Colorado Island, Panama.\n",
    "\n",
    "Kovenock, M. (2019).  Ecosystem and large-scale climate impacts of plant leaf dynamics (Doctoral dissertation). http://hdl.handle.net/1773/44061\n",
    "\n",
    "Meakem, V., Tepley, A. J., Gonzalez-Akre, E. B., Herrmann, V., Muller-Landau, H. C., Wright, S. J., et al. (2018). Role of tree size in moist tropical forest carbon cycling and water deficit responses. _New Phytologist, 219_, 947–958. https://doi.org/doi:10.1111/nph.14633\n"
   ]
  },
  {
   "cell_type": "code",
   "execution_count": null,
   "metadata": {},
   "outputs": [],
   "source": []
  }
 ],
 "metadata": {
  "kernelspec": {
   "display_name": "Python 3",
   "language": "python",
   "name": "python3"
  },
  "language_info": {
   "codemirror_mode": {
    "name": "ipython",
    "version": 3
   },
   "file_extension": ".py",
   "mimetype": "text/x-python",
   "name": "python",
   "nbconvert_exporter": "python",
   "pygments_lexer": "ipython3",
   "version": "3.6.4"
  }
 },
 "nbformat": 4,
 "nbformat_minor": 2
}

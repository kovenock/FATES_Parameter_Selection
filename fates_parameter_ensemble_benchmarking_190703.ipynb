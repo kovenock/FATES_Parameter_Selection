{
 "cells": [
  {
   "cell_type": "markdown",
   "metadata": {},
   "source": [
    "# FATES parameter ensemble evaluation \n",
    "\n",
    "This code evaluates the performance of 287 parameter ensemble member simulations against observations at a tropical forest test site, Barro Colorado Island, Panama. Parameter ensemble member simulations are identical (same model structure, initial conditions, and meteorological forcing) except that they differ in 12 plant trait parameters. Values for these plant trait parameters were sampled from observationally constrained distributions when possible.\n"
   ]
  },
  {
   "cell_type": "markdown",
   "metadata": {},
   "source": [
    "## Step 1: Load libraries"
   ]
  },
  {
   "cell_type": "code",
   "execution_count": 1,
   "metadata": {},
   "outputs": [],
   "source": [
    "import netCDF4 as nc4\n",
    "import numpy as np\n",
    "import pandas as pd\n",
    "import matplotlib.pyplot as plt\n",
    "import scipy\n",
    "from scipy import stats"
   ]
  },
  {
   "cell_type": "markdown",
   "metadata": {},
   "source": [
    "## Step 2: Load and preprocess data\n",
    "\n",
    "Here we load the data and calculate time series of annual mean values for six ecosystem characteristics for all the simulations and observations. This code section returns two multidimensional arrays, one for model output and one for observations, that contain annual mean values for each variable organized by parameter set and background carbon dioxide concentration.\n",
    "\n",
    "The six ecosystem characteristics included in these arrays are:\n",
    "\n",
    "- Leaf area index,\n",
    "- Above-ground biomass,\n",
    "- Basal area,\n",
    "- Gross primary productivity,\n",
    "- Latent heat flux, and\n",
    "- Sensible heat flux."
   ]
  },
  {
   "cell_type": "markdown",
   "metadata": {},
   "source": [
    "### 2.1  Model output\n",
    "\n",
    "This part of the code loads the model output for all FATES simulations in our parameter ensemble. Then it calculates time series of annual mean values for the six variables we use to evaluate the performance of each parameter set."
   ]
  },
  {
   "cell_type": "code",
   "execution_count": 2,
   "metadata": {},
   "outputs": [],
   "source": [
    "def annmeants(filepath,var,varfiletype,nyrs,conv_factor):\n",
    "    ''' Calculate time series of annual means for a model output variable.\n",
    "    :param filepath (str): file path to data file\n",
    "    :param var (str): name of variable to call from filename\n",
    "    :param nyrs (int, float): number of years to analyze\n",
    "    :param conv_factor (float): conversion factor specific to variable specified by var\n",
    "    :return: 2-D array containing annual mean time series (ensemble member, nyrs)\n",
    "    '''\n",
    "    \n",
    "    # If model output is stored as monthly average for all tree sizes,\n",
    "    # need to calculate annual mean.   \n",
    "    if varfiletype == 0:\n",
    "        \n",
    "        # Load monthly time series\n",
    "        # For all cases except latent heat flux (FLH):\n",
    "        if var != 'FLH':\n",
    "            mthts_temp = nc4.Dataset(filepath).variables[var][:,:,0]\n",
    "        \n",
    "        # For the special case of latent heat flux:\n",
    "        elif var == 'FLH':\n",
    "            # Sum of three terms:\n",
    "            mthts_temp = (nc4.Dataset(filepath).variables['FCTR'][:,:,0] \n",
    "                          + nc4.Dataset(filepath).variables['FGEV'][:,:,0] \n",
    "                          + nc4.Dataset(filepath).variables['FCEV'][:,:,0])\n",
    "        \n",
    "        \n",
    "        # Calculate annual mean time series for nyrs and convert units if necessary\n",
    "        annmeants = np.nanmean(np.reshape((mthts_temp[:,int(-1*nyrs*12):] * conv_factor),\n",
    "                                          (mthts_temp.shape[0],-1,12)),axis=2)\n",
    "        \n",
    "    # Else if model output is stored as annual mean but structured by tree size,\n",
    "    # need to sum across tree sizes.\n",
    "    elif varfiletype == 1:\n",
    "        # Calculate annual mean time series for entire ecosystem by summing across tree sizes\n",
    "        annmeants = np.squeeze(np.nansum((\n",
    "                        nc4.Dataset(filepath).variables[var + '_SCLS'][:,int(-1*nyrs):,:]),\n",
    "                        axis=2))\n",
    "    \n",
    "    mthts_temp = None\n",
    "    \n",
    "    return annmeants"
   ]
  },
  {
   "cell_type": "markdown",
   "metadata": {},
   "source": [
    "First, we will specify the information required to load and calculate annual mean time series of model output for each simulation, including file paths and names, variables to analyze, and conversion factors."
   ]
  },
  {
   "cell_type": "code",
   "execution_count": 3,
   "metadata": {},
   "outputs": [],
   "source": [
    "# Filepath\n",
    "model_filepath = 'data/'\n",
    "\n",
    "# Filenames\n",
    "# {1} = carbon dioxide concentration specified by CO2level;\n",
    "# {2} = variable file type specified by varfiletype.\n",
    "model_filenames =[\n",
    "    'fates_clm5_fullmodel_bci_parameter_ensemble_1pft_slaprofile_{}_v001.I2000Clm50FatesGs.Cdf9b02d-Fb178808.2018-07-27.h{}.ensemble.sofar.nc',\n",
    "    'fates_clm5_fullmodel_bci_parameter_ensemble_1pft_slaprofile_{}_v001.I2000Clm50FatesGs.Cdf9b02d-Fb178808.2018-07-27.h{}.ensemble.sofar.nc']\n",
    "\n",
    "# Background carbon dioxide (CO2) concentration\n",
    "CO2levels = ['367ppm', '400ppm']\n",
    "\n",
    "# Variable list for model output\n",
    "varlist = ['TLAI','AGB','BA','GPP','FLH','FSH']\n",
    "\n",
    "# Data structure for each variable in varlist:\n",
    "# 0 = monthly data for entire ecosystem;\n",
    "# 1 = annual data structured by tree size structure.\n",
    "varfiletype = [0,1,1,0,0,0]\n",
    "\n",
    "# Conversion factor for each variable in varlist:\n",
    "varconv = [1, 1, 1, 86400*365, 1, 1]\n",
    "\n",
    "# Variable units after applying conversion factor for each variable in varlist:\n",
    "varunits = ['$m^2/m^2$','$kgC/m^2$','$m^2/ha$','$gC/m^2/yr$','$W/m^2$','$W/m^2$']\n",
    "\n",
    "# Number of years of model output to analyze\n",
    "nyrs = 50\n",
    "\n",
    "# Number of parameter sets in ensemble\n",
    "nens = nc4.Dataset(model_filepath + model_filenames[0].format(CO2levels[0],varfiletype[0])).variables[varlist[0]].shape[0]"
   ]
  },
  {
   "cell_type": "markdown",
   "metadata": {},
   "source": [
    "Next, we create a multidimensional array that contains a time series of annual means for each variable, parameter set and background carbon dioxide concentration."
   ]
  },
  {
   "cell_type": "code",
   "execution_count": 4,
   "metadata": {},
   "outputs": [],
   "source": [
    "# Return model_data (float): a 4-D array of annual mean values for\n",
    "    # each variable with dimensions\n",
    "    # (CO2levels, varlist, nens, nyrs)\n",
    "    # with the following indexing:\n",
    "    # CO2levels: \n",
    "    #         0 = 367ppm CO2; \n",
    "    #         1 = 400ppm CO2.\n",
    "    # varlist: \n",
    "    #         0 = Leaf area index;\n",
    "    #         1 = Above ground biomass;\n",
    "    #         2 = Basal area;\n",
    "    #         3 = Gross primary productivity;\n",
    "    #         4 = Latent heat flux;\n",
    "    #         5 = Sensible heat flux.\n",
    "    # nens: \n",
    "    #         0:286 = parameter set index.\n",
    "\n",
    "# Initialize array\n",
    "model_data = np.zeros([len(CO2levels), len(varlist), nens, nyrs])\n",
    "\n",
    "for c in range(len(CO2levels)):\n",
    "    for v in range(len(varlist)):\n",
    "        \n",
    "        filepath = model_filepath + model_filenames[c].format(CO2levels[c],varfiletype[v])\n",
    "        \n",
    "        model_data[c, v, :, :] = annmeants(filepath, varlist[v], varfiletype[v], nyrs, varconv[v])\n",
    "\n",
    "        filepath = None"
   ]
  },
  {
   "cell_type": "markdown",
   "metadata": {},
   "source": [
    "### 2.2 Observations\n",
    "\n",
    "This code section loads data for the observations we will use to evaluate the performance of each parameter set in our FATES parameter ensemble. It then calculates annual mean values when necessary."
   ]
  },
  {
   "cell_type": "markdown",
   "metadata": {},
   "source": [
    "#### Leaf area index\n",
    "\n",
    "Leaf area index observations come from Detto et al. (2018) and were made using hemispherical photographs taken approximately monthly from January 2015 to August 2017 at 188 locations at our test site, Barro Colorado Island, Panama. We calculate annual mean values from the monthly means reported by Detto et al. (2018). (Note that monthly data consists of spatial means across photograph locations, rather than temporal means.) In order to use all the data available, we calculate two time series of annual means - one starting in from January and the second starting from September.\n",
    "\n",
    "Data was captured from Detto et al. (2018) Figure 7a using GraphClick software.\n",
    "\n",
    "__Reference for Data:__\n",
    "\n",
    "Detto, M., Wright, S. J., Calderón, O., & Muller-Landau, H. C. (2018). Resource acquisition and reproductive strategies of tropical forest in response to the El Niño-Southern Oscillation. Nature Communications, 9(1), 913. https://doi.org/10.1038/s41467-018-03306-9 "
   ]
  },
  {
   "cell_type": "code",
   "execution_count": 5,
   "metadata": {},
   "outputs": [],
   "source": [
    "# Return obs_data_lai (float): 2-D array of annual mean leaf area index\n",
    "#    (sample number, years) using the following index coding for\n",
    "#    sample number: \n",
    "#        0 = sample months starting from January; \n",
    "#        1 = sample months starting from September.\n",
    "\n",
    "\n",
    "# File path\n",
    "filepath = 'data/LAI_Detto2018Obs.csv'\n",
    "\n",
    "# Monthly spatial means\n",
    "lai_mthts = np.asarray([col[2] for col in (pd.read_csv(filepath)).values])\n",
    "\n",
    "# Specify start months for observations\n",
    "startmonth_list = np.array([1,9])\n",
    "\n",
    "# Number of annual means per sample\n",
    "nyears_lai = round(len(lai_mthts)/12-0.5)\n",
    "\n",
    "# Initialize array\n",
    "obs_data_lai = np.zeros([len(startmonth_list), nyears_lai])\n",
    "\n",
    "# Calculate annual means and fill array\n",
    "for x in range(len(startmonth_list)):\n",
    "    obs_data_lai[x,:] = np.nanmean(np.reshape(lai_mthts[startmonth_list[x]-1:24+startmonth_list[x]-1],(nyears_lai,12)),1)"
   ]
  },
  {
   "cell_type": "markdown",
   "metadata": {},
   "source": [
    "#### Above-ground carbon biomass\n",
    "\n",
    "Above-ground carbon biomass estimates were calculated from a 1995 census survey at our test site, Barro Colorado Island, by Meakem et al. (2018). They estimate above-ground biomass using two different methods (the standard and Chave allometric formulations). We use values from these two methods to represent uncertainty in the observational estimate. \n",
    "\n",
    "Alternatively, we can approximate above-ground carbon biomass from estimates of total biomass (rather than just carbon biomass) from census survey data reproted in Baraloto et al. (2013) and Feeley et al. (2007) for the following years:  1985, 1990,1995, 2000, and 2005. This alternative method yields similar results and can be implemented by setting use_alt_agb_obs to 1 in the code below.\n",
    "\n",
    "__References for Data:__\n",
    "\n",
    "Meakem, V., Tepley, A. J., Gonzalez-Akre, E. B., Herrmann, V., Muller-Landau, H. C., Wright, S. J., et al. (2018). Role of tree size in moist tropical forest carbon cycling and water deficit responses. New Phytologist, 219, 947–958. https://doi.org/doi:10.1111/nph.14633\n",
    "<br>\n",
    " \n",
    "Baraloto, C., Molto, Q., Rabaud, S., Hérault, B., Valencia, R., Blanc, L., et al. (2013). Rapid simultaneous estimation of aboveground biomass and tree diversity across Neotropical forests: a comparison of field inventory methods. Biotropica, 45(3), 288–298. https://doi.org/10.1111/btp.12006 \n",
    "<br>\n",
    "\n",
    "Feeley, K. J., Davies, S. J., Ashton, P. S., Bunyavejchewin, S., Supardi, M. N., Kassim, A. R., et al. (2007). The role of gap phase processes in the biomass dynamics of tropical forests. Proceedings of the Royal Society of London B: Biological Sciences, 274(1627), 2857–2864. https://doi.org/10.1098/rspb.2007.0954\n",
    "<br>\n"
   ]
  },
  {
   "cell_type": "code",
   "execution_count": 6,
   "metadata": {},
   "outputs": [],
   "source": [
    "# Return obs_data_agb (float): vector of above-ground\n",
    "#    carbon biomass (KgC/m2) indexed by allometric \n",
    "#    formulation:\n",
    "#        0 = standard;\n",
    "#        1 = Chave.\n",
    "\n",
    "use_alt_agb_obs = 0;\n",
    "\n",
    "filepath = 'data/BCI_biomass.csv'\n",
    "\n",
    "if use_alt_agb_obs == 0:\n",
    "    # Above-ground carbon biomass from Meakem et al. 2018 (MgC/ha) \n",
    "    cbiomass_obs_Mgha = np.asarray([col[2] for col in (pd.read_csv(filepath)).values])[-2:,]\n",
    "    # Convert from MgC/ha to KgC/m2\n",
    "    ha_to_m2 = 1/10000\n",
    "    Mg_to_kg = 1000\n",
    "    obs_data_agb = cbiomass_obs_Mgha * ha_to_m2 * Mg_to_kg\n",
    "    \n",
    "elif use_alt_agb_obs == 1:\n",
    "    # Total aboveground biomass (Mg biomass/ha) from \n",
    "    # Baraloto et al. (2013) and Feeley et al. (2007)\n",
    "    agb_biomass_obs = np.asarray([col[1] for col in (pd.read_csv(filepath)).values])[:-2,]\n",
    "    # Estimate of carbon biomass from total biomass using\n",
    "    # following Meakem et al. 2018\n",
    "    obs_data_agb_v2 = agb_biomass_obs*0.47\n",
    "    obs_data_agb = obs_data_agb_v2"
   ]
  },
  {
   "cell_type": "markdown",
   "metadata": {},
   "source": [
    "#### Basal area\n",
    "\n",
    "We use estimates of the median basal area for our test site Barro Colorado Island, Panama, from census surveys conducted in 1999, 2001, 2006, and 2011 by Condit et al. (1998, 2012, 2017) and Hubbell et al. (1999).\n",
    "\n",
    "__References for Data:__\n",
    "\n",
    "Condit, R. S., Aguilar, S., Perez, R., Lao, S., Hubbell, S. P., & Foster, R. B. (2017). Barro Colorado 50-ha Plot Taxonomy as of 2017. https://doi.org/10.25570/stri/10088/32990\n",
    "\n",
    "Condit, R., Lao, S., Pérez, R., Dolins, S. B., Foster, R., & Hubbell, S. (2012). Barro Colorado forest census plot data (version 2012). Center for Tropical Forest Science Databases. Https://Dx. Doi. Org/10.5479/Data. Bci. https://doi.org/http://dx.doi.org/10.5479/data.bci.20130603\n",
    "\n",
    "Condit, R. (1998). Tropical forest census plots. Berlin, Germany, and Georgetown, Texas: Springer-Verlag and R. G. Landes Company.\n",
    "\n",
    "Hubbell, S. P., Foster, R. B., O'Brien, S. T., Harms, K. E., Condit, R., Wechsler, B., et al. (1999). Light-gap disturbances, recruitment limitation, and tree diversity in a neotropical forest. Science, 283(5401), 554–557. https://doi.org/10.1126/science.283.5401.554 "
   ]
  },
  {
   "cell_type": "code",
   "execution_count": 27,
   "metadata": {},
   "outputs": [],
   "source": [
    "# Return obs_data_ba (float): vector containing basal area (m^2/ha)\n",
    "#    indexed by census year in chronological order\n",
    "\n",
    "filepath = 'data/census_bmks_bci_171208.nc'\n",
    "\n",
    "# Load basal area median values for the last 5 census dates\n",
    "# Data structured as follows:\n",
    "# [census number, tree diameter size class,...\n",
    "# distribution percentiles (0.05,0.5,0.95)]\n",
    "basalarea_bysize = nc4.Dataset(filepath).variables['basal_area_by_size_census'][-5:,:,1]\n",
    "\n",
    "# Sum across tree size classes\n",
    "obs_data_ba = np.nansum(basalarea_bysize,1)"
   ]
  },
  {
   "cell_type": "markdown",
   "metadata": {},
   "source": [
    "#### Gross primary productivity, latent heat fluxes, and sensible heat fluxes\n",
    "\n",
    "Estimates gross primary productivity, latent heat fluxes, and sensible heat fluxes are calculated from fluxtower eddy covariance measurements made from July 2012 to August 2017 at Barro Colorado Islana by Koven et al. (unpublished). To use all data available in our analysis, we calculate two versions of annual means time series, one beginning in July and the second beginning in September.\n",
    "\n",
    "__Reference for Data:__\n",
    "\n",
    "Koven, C. D., et al. Benchmarking and Parameter Sensitivity of Predictions of Ecophysiological and Vegetation Dynamics using the Functionally Assembled Terrestrial Ecosystem Simulator (FATES) at Barro Colorado Island, Panama. *In prep.*"
   ]
  },
  {
   "cell_type": "code",
   "execution_count": 8,
   "metadata": {},
   "outputs": [],
   "source": [
    "def annmeants_fluxobs(mthts,startmth):\n",
    "    ''' Calculate time series of annual means from monthly fluxtower estimates.\n",
    "    :param mthts (float): 2-D array containing fluxtower observations (years, months)\n",
    "    :param startmth (int): number corresponding to start month for this annual mean time series\n",
    "                            (e.g. 7 = start with July, 9 = start with Sept)\n",
    "    :return: vector containing annual mean time series of size (nyrs) \n",
    "    '''\n",
    "    # Discard number of months specified by dif\n",
    "    mthts_dif = np.reshape(mthts,(1,-1))[:,startmth-1:startmth-1-12]\n",
    "    \n",
    "    # Calculate annual mean time series\n",
    "    annmeants = np.nanmean(np.reshape(mthts_dif,(5,12)),axis=1)\n",
    "    \n",
    "    return annmeants"
   ]
  },
  {
   "cell_type": "code",
   "execution_count": 9,
   "metadata": {},
   "outputs": [],
   "source": [
    "# Return obs_data_flux (float): 3-D array containing annual mean values\n",
    "#    indexed as (sample number, variable, year).\n",
    "#    sample number: \n",
    "#        0 = sample months starting from July; \n",
    "#        1 = sample months starting from September.\n",
    "#    variable:\n",
    "#        0 = gross primary productivity;\n",
    "#        1 = latent heat flux;\n",
    "#        2 = sensible heat flux.\n",
    "\n",
    "# Load observations\n",
    "GPP_data = np.load('data/fluxdata_GPP.npy')\n",
    "LH_data  = np.load('data/fluxdata_LH.npy')\n",
    "SH_data  = np.load('data/fluxdata_SH.npy')\n",
    "fluxdata_mask= np.load('data/fluxdata_mask.npy')\n",
    "\n",
    "# Apply mask to arrays\n",
    "GPP_monthyear = np.ma.masked_array(GPP_data, mask=fluxdata_mask)\n",
    "LH_monthyear = np.ma.masked_array(LH_data, mask=fluxdata_mask)\n",
    "SH_monthyear = np.ma.masked_array(SH_data, mask=fluxdata_mask)\n",
    "\n",
    "# Specify start months for observations\n",
    "startmonth_list = np.array([7,9])\n",
    "\n",
    "# Number of years\n",
    "nyrs_obsflux = len(annmeants_fluxobs(GPP_monthyear,startmonth_list[0]))\n",
    "\n",
    "# Initialize array\n",
    "obs_data_flux = np.zeros([len(startmonth_list), 3, nyrs_obsflux])\n",
    "\n",
    "# Fill array\n",
    "for x in range(len(startmonth_list)):\n",
    "    obs_data_flux[x,0,:] = annmeants_fluxobs(GPP_monthyear,startmonth_list[x])\n",
    "    obs_data_flux[x,1,:] = annmeants_fluxobs(LH_monthyear,startmonth_list[x])\n",
    "    obs_data_flux[x,2,:] = annmeants_fluxobs(SH_monthyear,startmonth_list[x])"
   ]
  },
  {
   "cell_type": "markdown",
   "metadata": {},
   "source": [
    "## Step 3: Evaluate performance of each parameter set\n",
    "\n",
    "In this section we quantify the performance of each parameter set's model output against observations. As we would like to identify parameter sets that robsutly perform well regardless of performance metric we use two distint metrics to evaluate performance:  error rate and normalized root mean square error (NRMSE). We calculate each metric for each variable. Then, we take a weighted average across all variables for each metric and parameter set."
   ]
  },
  {
   "cell_type": "markdown",
   "metadata": {},
   "source": [
    "### Performance Metric #1: Error Rate\n",
    "\n",
    "The error rate measures the percent of model annual means that fall within the observed range for each variable and ensemble member.<br>\n",
    "\n",
    "The observed range is defined as the minimum and maximum across observations. To account for relatively small sample sizes and potential measurment error within the observations we extend the observational range by the 10% in either direction."
   ]
  },
  {
   "cell_type": "code",
   "execution_count": 10,
   "metadata": {},
   "outputs": [],
   "source": [
    "def error_rate(model_ts,obs_ts,dg):\n",
    "    '''Function calculates the error rate for each simulation\n",
    "    as the percentage of model output annual means that fall\n",
    "    within the observed range for the variable.\n",
    "    param model_ts (float): a 2-D array containing the time series of annual means\n",
    "       for a given variable indexed by (parameter set, years)\n",
    "    param obs_ts (float): a vecotr or 2-D array containing the observed time series for\n",
    "        the given variable indexed as (years) or (sample number, years)\n",
    "    param dg (float): a scalar specifying the degradation level for observed range\n",
    "        as a fraction\n",
    "    return error_rate (float): a vector containing the error rates indexed by parameter set\n",
    "        (nens)'''\n",
    "    \n",
    "    # Number of ensemble members\n",
    "    nens = model_ts.shape[0]\n",
    "    \n",
    "    # Empty array to fill\n",
    "    error_rate = np.zeros([nens])\n",
    "\n",
    "    # Observed minimum and maximum\n",
    "    obs_min = np.nanmin(obs_ts)\n",
    "    obs_max = np.nanmax(obs_ts)\n",
    "    \n",
    "    error_rate = 100*np.nansum(np.where((model_ts <= obs_min*(1-dg)) | (model_ts >= obs_max*(1+dg)),1,0),1)/model_ts.shape[1]\n",
    "    return error_rate"
   ]
  },
  {
   "cell_type": "code",
   "execution_count": 11,
   "metadata": {},
   "outputs": [],
   "source": [
    "# Return error_rate_array (float): a 3-D array containing error rates\n",
    "#    indexed by (CO2 level, varlist, parameter set)\n",
    "\n",
    "# Specify observed data arrays in order corresponding to varlist\n",
    "obs_data_list = [obs_data_lai,obs_data_agb,obs_data_ba,\n",
    "                 obs_data_flux[:,0,:],obs_data_flux[:,1,:],\n",
    "                 obs_data_flux[:,2,:]]\n",
    "\n",
    "# Degradation level for the observational range \n",
    "# as fraction, not percent\n",
    "dg = np.array([0.10])\n",
    "\n",
    "# Calculate error rate\n",
    "error_rate_array = np.zeros([len(CO2levels),len(varlist), nens])\n",
    "for i in range(len(CO2levels)):\n",
    "        for j in range(len(varlist)):\n",
    "            error_rate_array[i,j,:] = error_rate(model_data[i,j,:,:], obs_data_list[j], dg)     "
   ]
  },
  {
   "cell_type": "markdown",
   "metadata": {},
   "source": [
    "### Performance Metric #2:  Normalized root mean square error (NRMSE)\n",
    "\n",
    "The normalized root mean square error (NRMSE) measures the distance between the model output for each parameter set and the observed mean value. We normalize the root mean square error by the observed range for each variable so that we can compare NRMSE values across variables. In other words, normalizing tells us whether the distance from the observation is large compared to the spread in observations for each varialbe. This becomes especially useful when we take a weighted average NRMSE across all variables in the next code section. We caluclate this metric for each variable, parameter set, and background carbon dioxide level.\n",
    "\n",
    "\\begin{equation}\\Large\n",
    "NRMSE = \\frac{ \\sqrt{ \\sum_{k=1}^n \\frac{(x_{model,k} - \\bar{X}_{obs})^2}{n}}} {x_{obs,max} - x_{obs,min}}\n",
    "\\end{equation}\n",
    "\n",
    "When mulitple annual mean time series were sampled for an observed variable (e.g. observations for leaf area index spanned a partial year), we calculate the difference between the observed mean and model output using the time series that minimizes this difference."
   ]
  },
  {
   "cell_type": "code",
   "execution_count": 12,
   "metadata": {},
   "outputs": [],
   "source": [
    "def nrmse(model_ts,obs_ts):\n",
    "    '''Function calculates the normalized root mean square error(NRMSE)\n",
    "    for each model ensemble member. When multiple observation time series \n",
    "    are available, this function calculates the NRMSE for each time series \n",
    "    and then selects the lowest of those NRMSE values.\n",
    "    param model_ts (float): a 2-D array containing the time series of annual means\n",
    "       for a given variable for all model ensemble members \n",
    "       (ensemble member, years)\n",
    "    param obs_ts (float): a vecotr or 2-D array containing the observed time series for\n",
    "        the given variable indexed as (years) or (sample number, years)\n",
    "    return nrmse (float): a vector containing the normalized root mean square error \n",
    "        for each ensemble member indexed by (parameter set)'''\n",
    "    \n",
    "    # Number of ensemble members\n",
    "    nens = model_ts.shape[0]\n",
    "\n",
    "    # If multiple observation time series, \n",
    "    # take the lowest NRMSE for each ensemble member\n",
    "    try:\n",
    "        if obs_ts.shape[1]>0:\n",
    "            # Number of observation time series\n",
    "            nobs = obs_ts.shape[0]\n",
    "            obs_min = np.nanmin(obs_ts,axis=1)\n",
    "            obs_max = np.nanmax(obs_ts, axis=1)\n",
    "            obs_mean = np.nanmean(obs_ts,axis=1)\n",
    "            \n",
    "            temp_nrmse = np.zeros([nobs,nens])\n",
    "            \n",
    "            for obsnum in range(nobs):\n",
    "                temp_nrmse[obsnum,:] = np.sqrt(np.nansum((model_ts[:,:] - obs_mean[obsnum])**2,axis=1) / model_ts.shape[1]) / (obs_max[obsnum]-obs_min[obsnum])\n",
    "                \n",
    "            nrmse = np.nanmin(temp_nrmse,axis=0)\n",
    "\n",
    "            temp_nrmse = None\n",
    "        \n",
    "    # Otherwise, simply calculate NRMSE\n",
    "    except IndexError:\n",
    "        obs_min = np.nanmin(obs_ts,axis=0)\n",
    "        obs_max = np.nanmax(obs_ts,axis=0)\n",
    "        obs_mean = np.nanmean(obs_ts,axis=0)    \n",
    "        \n",
    "        nrmse = np.sqrt(np.nansum((model_ts[:,:] - obs_mean)**2,axis=1) / model_ts.shape[1]) / (obs_max-obs_min)\n",
    "\n",
    "    return nrmse"
   ]
  },
  {
   "cell_type": "code",
   "execution_count": 31,
   "metadata": {},
   "outputs": [],
   "source": [
    "# Return nrsmse_array (float): a 3-D array containing the NRMSE \n",
    "#    indexed by [CO2level, varlist, parameer set]    \n",
    "\n",
    "nrmse_array = np.zeros([len(CO2levels),len(varlist), nens])\n",
    "\n",
    "for i in range(len(CO2levels)):\n",
    "        for j in range(len(varlist)):\n",
    "            nrmse_array[i,j,:] = nrmse(model_data[i,j,:,:], obs_data_list[j])"
   ]
  },
  {
   "cell_type": "markdown",
   "metadata": {},
   "source": [
    "### Weighted average permformance metrics across variables\n",
    "\n",
    "We calculate weighted averages across variables for both the normalized root mean square error and the error rate. We calculate and consider three different weighting approaches to ensure that our selection of high-performing parameter sets is robust to weighting method. The weighting approaches we use are:\n",
    "\n",
    "1. Even:  All variables are evenly weighted.\n",
    "\n",
    "2. Structure:  This weighting favors structural ecosystem properties (leaf area index, above-ground biomass, and basal area). This weighting scheme reflects the likelihood that structural property measurements at our test site include less uncertainty than flux measurements.\n",
    "\n",
    "3. Correlation: This weighting scheme is informed by correlations between individual variable performance metrics. Ensemble member performance in flux variables (gross primary productivity, sensible heat, and latent heat) was correlated with leaf area index and with one another. As leaf area index observations likely include smaller measurement uncertainty, we chose to weight leaf area index more highly at the expense of flux observations. We also reduced the weightings of basal area and above-ground biomass to account for their correlation with one another."
   ]
  },
  {
   "cell_type": "markdown",
   "metadata": {},
   "source": [
    "#### Weighted average error rate"
   ]
  },
  {
   "cell_type": "code",
   "execution_count": 32,
   "metadata": {},
   "outputs": [],
   "source": [
    "# Even weighting across all variables\n",
    "er_wavg_even = np.nansum(error_rate_array,1) / error_rate_array.shape[1]\n",
    "\n",
    "# Weighted average favoring structural properties\n",
    "w = 0.3\n",
    "er_wavg_strct = (w*(error_rate_array[:,0,:]) \n",
    "            + w*(error_rate_array[:,1,:])\n",
    "            + w*(error_rate_array[:,2,:])\n",
    "            + (1-3*w)*((error_rate_array[:,3,:])\n",
    "                +(error_rate_array[:,4,:])\n",
    "                +(error_rate_array[:,5,:]))/3)\n",
    "\n",
    "# Weighting based on correlations between performance metric for each variable\n",
    "w1 = 0.4\n",
    "w2 = 0.25\n",
    "w3 = 0.1\n",
    "er_wavg_corr = ( w1*(error_rate_array[:,0,:])  \n",
    "            + w2*(error_rate_array[:,1,:])  \n",
    "            + w2*(error_rate_array[:,2,:]) \n",
    "            + w3*((error_rate_array[:,3,:])\n",
    "                +(error_rate_array[:,4,:])\n",
    "                +(error_rate_array[:,5,:]))/3)"
   ]
  },
  {
   "cell_type": "markdown",
   "metadata": {},
   "source": [
    "#### Weighted average NRMSE\n",
    "\n",
    "We quantify the distance of model output from the mean observations in multivariate space by calculating the weighted Euclidean distance as follows:\n",
    "\n",
    "\\begin{equation}\n",
    "NRMSE_{avg} = \\sqrt{ \\sum_{i=1}^m (\\omega_{i} \\cdot NRMSE_{i})^2}\n",
    "\\end{equation}\n",
    "\n",
    "where $m$ is the number of variables we consider; $NRMSE_{i}$ is the normalized root mean square error for each individual variable; and $\\omega_{i}$ is the weighting for each variable. "
   ]
  },
  {
   "cell_type": "code",
   "execution_count": 33,
   "metadata": {},
   "outputs": [],
   "source": [
    "# Even weighting across all variablesw = 1/6\n",
    "nrmse_wavg_even = np.sqrt(w*(nrmse_array[:,0,:])**2 \n",
    "                                  + w*(nrmse_array[:,1,:])**2 \n",
    "                                  + w*(nrmse_array[:,2,:])**2 \n",
    "                                  + w*(nrmse_array[:,3,:])**2 \n",
    "                                  + w*(nrmse_array[:,4,:])**2 \n",
    "                                  + w*(nrmse_array[:,5,:])**2)\n",
    "\n",
    "\n",
    "# Weighted average favoring structural propertiesw = 0.3\n",
    "nrmse_wavg_strct = np.sqrt(w*(nrmse_array[:,0,:])**2 \n",
    "                        + w*(nrmse_array[:,1,:])**2 \n",
    "                        + w*(nrmse_array[:,2,:])**2 \n",
    "                        + (1-3*w)*((nrmse_array[:,3,:])**2 \n",
    "                                    +(nrmse_array[:,4,:])**2 \n",
    "                                    +(nrmse_array[:,5,:])**2)/3)\n",
    "\n",
    "# Weighting based on correlations between performance metric for each variable\n",
    "w1 = 0.4\n",
    "w2 = 0.25\n",
    "w3 = 0.1\n",
    "nrmse_wavg_corr = np.sqrt(w1*(nrmse_array[:,0,:])**2 \n",
    "                          + w2*(nrmse_array[:,1,:])**2 \n",
    "                          + w2*(nrmse_array[:,2,:])**2 \n",
    "                          + w3*((nrmse_array[:,3,:])**2 \n",
    "                                  +(nrmse_array[:,4,:])**2 \n",
    "                                  +(nrmse_array[:,5,:])**2)/3)"
   ]
  },
  {
   "cell_type": "markdown",
   "metadata": {},
   "source": [
    "## Step 4: Rank ensemble members by performance\n",
    "Here we assign an overall rank to each ensemble member based on its performance across both performance metrics (error rate and NRMSE), three weighting schemes (even, structure, and correlated), and two cases (low and high atmospheric carbon dioxide concentration). The goal of this analysis is to identify parameter ensemble members (and thus parameter sets) that robsutly perform well at our test site."
   ]
  },
  {
   "cell_type": "code",
   "execution_count": 34,
   "metadata": {},
   "outputs": [
    {
     "name": "stdout",
     "output_type": "stream",
     "text": [
      "Highest Performing Ensemble Member Numbers:  [ 86 260 151  85  95 259 125 158  37 213]\n"
     ]
    }
   ],
   "source": [
    "all_avg_array = np.stack([er_wavg_even,nrmse_wavg_even,\n",
    "                             er_wavg_strct,nrmse_wavg_strct,\n",
    "                             er_wavg_corr,nrmse_wavg_corr])\n",
    "\n",
    "rank_array = scipy.stats.mstats.rankdata(all_avg_array,axis=2)\n",
    "\n",
    "# Sum ranks across cases and ranking methods\n",
    "sum_rank_array = np.nansum(np.nansum(rank_array,axis=0),axis=0)\n",
    "\n",
    "# Sort the index number for each ensemble member by their summed rank (best to worst performance)\n",
    "sum_rank_index = np.argsort(sum_rank_array)\n",
    "\n",
    "#Print Index # for Top 10 Ensemble Members\n",
    "highperform_num = np.transpose(sum_rank_index)[:10,]+1\n",
    "highperform_indx = np.transpose(sum_rank_index)[:10,]\n",
    "print(\"Highest Performing Ensemble Member Numbers: \", highperform_num)"
   ]
  },
  {
   "cell_type": "markdown",
   "metadata": {},
   "source": [
    "## Step 5: Plot performance metrics for high-performing ensemble members"
   ]
  },
  {
   "cell_type": "code",
   "execution_count": 53,
   "metadata": {},
   "outputs": [],
   "source": [
    "def heatsubplotfxn(heatdata, CO2indx, minval, maxval, plotnum, metriclabel,\n",
    "                   highperform_indx, heat_var_labels, ens10label, enslabel):\n",
    "    \n",
    "    '''Function creates a heatmap for each performance metric\n",
    "    for high-performing ensemble members and then all ensemble members.\n",
    "\n",
    "    param heatdata (float): 3-D array containing a performance metric (CO2levels, variable, nens)\n",
    "    param CO2indx(int, float): index for background CO2 level (0 = 367 ppm; 1 = 400ppm)\n",
    "    param minval (int): minimum value for heatmap colorbar\n",
    "    param maxval (int): maximum value for heatmap colorbar\n",
    "    param plotnum (int): subplot number\n",
    "    param metriclabel (str): label for performance metric\n",
    "    param highperform_indx (int, float): vector of index numbers for\n",
    "        high-performing parameter sets\n",
    "    param heat_var_labels (str): list of variable labels indexed by (variable)\n",
    "    param ens10label (str): list of high-performing parameter set numbers\n",
    "        to be used as plot labels\n",
    "    param enslabel (str): list parameter set numbers to label in plot of\n",
    "        all parameter sets' performance metrics\n",
    "    \n",
    "    return heatmap subplot for one performance metric\n",
    "    '''\n",
    "    \n",
    "    #Subplot indexing paramter\n",
    "    i = 2\n",
    "    \n",
    "    # Highest Performing Ensemble Members\n",
    "    ax1 = plt.subplot(3,i,plotnum)\n",
    "    im1 = ax1.imshow(\n",
    "        heatdata[CO2indx,:,highperform_indx],\n",
    "        vmin = minval, vmax = maxval,\n",
    "        cmap=\"viridis_r\",aspect='auto')\n",
    "\n",
    "    ax1.set_xticks(np.arange(len(heat_var_labels)))\n",
    "    ax1.xaxis.tick_top()\n",
    "    ax1.set_xticklabels(heat_var_labels)\n",
    "    ax1.xaxis.set_label_position('top')\n",
    "\n",
    "    ax1.set_ylabel('High Performing Parameter Sets (#)')\n",
    "    ax1.set_yticks(np.arange(len(ens10)))\n",
    "    ax1.set_yticklabels(ens10)\n",
    "\n",
    "    # All Ensemble Members\n",
    "    ax2 = plt.subplot(3,i,(i+plotnum,i*2+plotnum))\n",
    "    im2 = ax2.imshow(\n",
    "        np.transpose(heatdata[CO2indx,:,:]),\n",
    "        vmin = minval, vmax = maxval,\n",
    "        cmap=\"viridis_r\",aspect='auto')\n",
    "    \n",
    "    # Colorbar\n",
    "    cbar = ax1.figure.colorbar(\n",
    "        im2, ax=ax2, orientation=\"horizontal\", \n",
    "        pad=0.025)\n",
    "    # Labels\n",
    "    cbar.ax.set_xlabel(metriclabel, fontsize = 16, \n",
    "                       fontweight ='bold')\n",
    "    ax2.set_xticks([]) # hide xticks/labels\n",
    "    ax2.set_ylabel('All Parameter Sets (#)')\n",
    "    ax2.set_yticks(ens)\n",
    "    ax2.set_yticklabels(enslist)"
   ]
  },
  {
   "cell_type": "code",
   "execution_count": 54,
   "metadata": {},
   "outputs": [],
   "source": [
    "# Return error_heatdata: a 3-D array containing error rates\n",
    "#    indexed by (CO2level, variable, nens)\n",
    "# Return nrmse_heatdata: a 3-D array containing NRMSE \n",
    "#    indexed by (CO2level, variable, parameter set)\n",
    "#        Variable indexing as follows:\n",
    "#            0-5 = variables in order of varlist, \n",
    "#            6-8 = weighted averages across variables\n",
    "#                    using even,\n",
    "#                    structure, and correlation weights,\n",
    "#                    respectively\n",
    "\n",
    "# Concatenate data for error rate heatmap\n",
    "error_rate_wavg_array = np.stack([er_wavg_even,er_wavg_strct,er_wavg_corr],axis=1)\n",
    "error_heatdata = np.concatenate([error_rate_array,error_rate_wavg_array],axis=1)\n",
    "\n",
    "# Concatenate data for NRMSE heatmap\n",
    "nrmse_wavg_array = np.stack([nrmse_wavg_even,nrmse_wavg_strct,nrmse_wavg_corr],axis=1)\n",
    "nrmse_heatdata = np.concatenate([nrmse_array,nrmse_wavg_array],axis=1)"
   ]
  },
  {
   "cell_type": "code",
   "execution_count": 55,
   "metadata": {},
   "outputs": [],
   "source": [
    "# Additional information for figures\n",
    "\n",
    "# Metric/Variable labels\n",
    "heat_var_labels = [\"LAI\",\"AGB\",\"BA\",\n",
    "                \"GPP\",\"LH\",\"SH\",\"Av$_{E}$\",\"Av$_{S}$\",\"Av$_{C}$\"]\n",
    "\n",
    "# Ensemble member labels\n",
    "# 10 highest performing\n",
    "ens10 = [str(int(x)) for x in highperform_num]\n",
    "# All (label every 25th ensemble member)\n",
    "ens = np.array(range(25,300,25))\n",
    "enslist = [str(x) for x in ens]"
   ]
  },
  {
   "cell_type": "markdown",
   "metadata": {},
   "source": [
    "#### Plot performance metrics for simulations run at 367 ppm carbon dioxide"
   ]
  },
  {
   "cell_type": "code",
   "execution_count": 56,
   "metadata": {},
   "outputs": [
    {
     "data": {
      "image/png": "[encoded data removed]",
      "text/plain": [
       "<matplotlib.figure.Figure at 0x7f9e412375f8>"
      ]
     },
     "metadata": {},
     "output_type": "display_data"
    }
   ],
   "source": [
    "fig1 = plt.figure(figsize=(12,12))\n",
    "\n",
    "# Set CO2levels index number\n",
    "casenum = 0\n",
    "\n",
    "# Plot Error Rate\n",
    "plotnum = 1\n",
    "heatsubplotfxn(error_heatdata, casenum, 0, 100, plotnum, 'A.  Error Rate (%)', \n",
    "               highperform_indx, heat_var_labels, ens10, enslist)\n",
    "\n",
    "# Plot NRMSE\n",
    "plotnum = plotnum+1\n",
    "heatsubplotfxn(nrmse_heatdata, casenum, 0, 10, plotnum, 'B.  NRMSE', \n",
    "               highperform_indx, heat_var_labels, ens10, enslist)\n",
    "\n",
    "plt.tight_layout()"
   ]
  },
  {
   "cell_type": "markdown",
   "metadata": {},
   "source": [
    "#### Plot performance metrics for simulations run at 400 ppm carbon dioxide"
   ]
  },
  {
   "cell_type": "code",
   "execution_count": 58,
   "metadata": {},
   "outputs": [
    {
     "data": {
      "image/png": "[encoded data removed]",
      "text/plain": [
       "<matplotlib.figure.Figure at 0x7f9e40c56f60>"
      ]
     },
     "metadata": {},
     "output_type": "display_data"
    }
   ],
   "source": [
    "fig2 = plt.figure(figsize=(12,12))\n",
    "\n",
    "# Set CO2levels index number\n",
    "casenum = 1\n",
    "\n",
    "# Plot Error Rate\n",
    "plotnum = 1\n",
    "heatsubplotfxn(error_heatdata, casenum, 0, 100, plotnum, 'A.  Error Rate (%)',\n",
    "              highperform_indx, heat_var_labels, ens10, enslist)\n",
    "\n",
    "# Plot NRMSE\n",
    "plotnum = plotnum+1\n",
    "heatsubplotfxn(nrmse_heatdata, casenum, 0, 10, plotnum, 'B.  NRMSE',\n",
    "              highperform_indx, heat_var_labels, ens10, enslist)\n",
    "\n",
    "plt.tight_layout()"
   ]
  }
 ],
 "metadata": {
  "kernelspec": {
   "display_name": "Python 3",
   "language": "python",
   "name": "python3"
  },
  "language_info": {
   "codemirror_mode": {
    "name": "ipython",
    "version": 3
   },
   "file_extension": ".py",
   "mimetype": "text/x-python",
   "name": "python",
   "nbconvert_exporter": "python",
   "pygments_lexer": "ipython3",
   "version": "3.6.4"
  }
 },
 "nbformat": 4,
 "nbformat_minor": 2
}
